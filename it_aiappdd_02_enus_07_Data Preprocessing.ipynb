{
 "cells": [
  {
   "cell_type": "code",
   "execution_count": 14,
   "metadata": {
    "colab": {},
    "colab_type": "code",
    "id": "dJ-MNeYpD3X7"
   },
   "outputs": [],
   "source": [
    "import pandas as pd"
   ]
  },
  {
   "cell_type": "markdown",
   "metadata": {
    "colab_type": "text",
    "id": "9tPuF9zsuAso"
   },
   "source": [
    "Data Pre-Processing \n",
    "\n",
    "In this notebook, we will see the basics of data-preprocesing on Google Collab Enviornment. You will be abel to see how Python has made the process easier for any data to be processed and ready for AI. "
   ]
  },
  {
   "cell_type": "markdown",
   "metadata": {
    "colab_type": "text",
    "id": "9QbePH0RuEH4"
   },
   "source": [
    "Collab OverView \n",
    "  - Online Notebook\n",
    "  - No need to install any library \n",
    "  - No environment Setup \n",
    "  - ~12 GB ram Machine \n",
    "  - You can get GPU Machine"
   ]
  },
  {
   "cell_type": "code",
   "execution_count": 15,
   "metadata": {
    "colab": {},
    "colab_type": "code",
    "id": "zddDnxh-7NTV"
   },
   "outputs": [],
   "source": [
    "# Import Libraries\n",
    "import numpy as np  # For any array level computations \n",
    "import pandas as pd  # For converting csv/excel data into tabular data structure. "
   ]
  },
  {
   "cell_type": "markdown",
   "metadata": {
    "colab_type": "text",
    "id": "Bg97bRSR7NTh"
   },
   "source": [
    "# Handling Missing Values"
   ]
  },
  {
   "cell_type": "code",
   "execution_count": 16,
   "metadata": {
    "colab": {},
    "colab_type": "code",
    "id": "489zSeWq7NTm"
   },
   "outputs": [],
   "source": [
    "# Reading data using Pandas\n",
    "df1 = pd.read_csv('https://raw.githubusercontent.com/maghfera/Diabetes-prediction/refs/heads/main/diabetes.csv')"
   ]
  },
  {
   "cell_type": "code",
   "execution_count": 17,
   "metadata": {
    "colab": {
     "base_uri": "https://localhost:8080/",
     "height": 195
    },
    "colab_type": "code",
    "executionInfo": {
     "elapsed": 887,
     "status": "ok",
     "timestamp": 1586525013571,
     "user": {
      "displayName": "Tushit Dave",
      "photoUrl": "https://lh3.googleusercontent.com/a-/AOh14Gik4OKoqYZMqlsb_TsLeVLPQHgaNo_XIoszgMjN=s64",
      "userId": "01319629895883779210"
     },
     "user_tz": -330
    },
    "id": "DXD7ZcnPCjC7",
    "outputId": "762b520b-34f6-40d7-866c-84e99951bdfc"
   },
   "outputs": [
    {
     "data": {
      "text/html": [
       "<div>\n",
       "<style scoped>\n",
       "    .dataframe tbody tr th:only-of-type {\n",
       "        vertical-align: middle;\n",
       "    }\n",
       "\n",
       "    .dataframe tbody tr th {\n",
       "        vertical-align: top;\n",
       "    }\n",
       "\n",
       "    .dataframe thead th {\n",
       "        text-align: right;\n",
       "    }\n",
       "</style>\n",
       "<table border=\"1\" class=\"dataframe\">\n",
       "  <thead>\n",
       "    <tr style=\"text-align: right;\">\n",
       "      <th></th>\n",
       "      <th>Pregnancies</th>\n",
       "      <th>Glucose</th>\n",
       "      <th>BloodPressure</th>\n",
       "      <th>SkinThickness</th>\n",
       "      <th>Insulin</th>\n",
       "      <th>BMI</th>\n",
       "      <th>DiabetesPedigreeFunction</th>\n",
       "      <th>Age</th>\n",
       "      <th>Outcome</th>\n",
       "    </tr>\n",
       "  </thead>\n",
       "  <tbody>\n",
       "    <tr>\n",
       "      <th>0</th>\n",
       "      <td>6</td>\n",
       "      <td>148</td>\n",
       "      <td>72</td>\n",
       "      <td>35</td>\n",
       "      <td>0</td>\n",
       "      <td>33.6</td>\n",
       "      <td>0.627</td>\n",
       "      <td>50</td>\n",
       "      <td>1</td>\n",
       "    </tr>\n",
       "    <tr>\n",
       "      <th>1</th>\n",
       "      <td>1</td>\n",
       "      <td>85</td>\n",
       "      <td>66</td>\n",
       "      <td>29</td>\n",
       "      <td>0</td>\n",
       "      <td>26.6</td>\n",
       "      <td>0.351</td>\n",
       "      <td>31</td>\n",
       "      <td>0</td>\n",
       "    </tr>\n",
       "    <tr>\n",
       "      <th>2</th>\n",
       "      <td>8</td>\n",
       "      <td>183</td>\n",
       "      <td>64</td>\n",
       "      <td>0</td>\n",
       "      <td>0</td>\n",
       "      <td>23.3</td>\n",
       "      <td>0.672</td>\n",
       "      <td>32</td>\n",
       "      <td>1</td>\n",
       "    </tr>\n",
       "    <tr>\n",
       "      <th>3</th>\n",
       "      <td>1</td>\n",
       "      <td>89</td>\n",
       "      <td>66</td>\n",
       "      <td>23</td>\n",
       "      <td>94</td>\n",
       "      <td>28.1</td>\n",
       "      <td>0.167</td>\n",
       "      <td>21</td>\n",
       "      <td>0</td>\n",
       "    </tr>\n",
       "    <tr>\n",
       "      <th>4</th>\n",
       "      <td>0</td>\n",
       "      <td>137</td>\n",
       "      <td>40</td>\n",
       "      <td>35</td>\n",
       "      <td>168</td>\n",
       "      <td>43.1</td>\n",
       "      <td>2.288</td>\n",
       "      <td>33</td>\n",
       "      <td>1</td>\n",
       "    </tr>\n",
       "  </tbody>\n",
       "</table>\n",
       "</div>"
      ],
      "text/plain": [
       "   Pregnancies  Glucose  BloodPressure  SkinThickness  Insulin   BMI  \\\n",
       "0            6      148             72             35        0  33.6   \n",
       "1            1       85             66             29        0  26.6   \n",
       "2            8      183             64              0        0  23.3   \n",
       "3            1       89             66             23       94  28.1   \n",
       "4            0      137             40             35      168  43.1   \n",
       "\n",
       "   DiabetesPedigreeFunction  Age  Outcome  \n",
       "0                     0.627   50        1  \n",
       "1                     0.351   31        0  \n",
       "2                     0.672   32        1  \n",
       "3                     0.167   21        0  \n",
       "4                     2.288   33        1  "
      ]
     },
     "execution_count": 17,
     "metadata": {},
     "output_type": "execute_result"
    }
   ],
   "source": [
    "# Printing top 5 observations\n",
    "df1.head()"
   ]
  },
  {
   "cell_type": "code",
   "execution_count": 18,
   "metadata": {
    "colab": {
     "base_uri": "https://localhost:8080/",
     "height": 202
    },
    "colab_type": "code",
    "executionInfo": {
     "elapsed": 954,
     "status": "ok",
     "timestamp": 1586525019949,
     "user": {
      "displayName": "Tushit Dave",
      "photoUrl": "https://lh3.googleusercontent.com/a-/AOh14Gik4OKoqYZMqlsb_TsLeVLPQHgaNo_XIoszgMjN=s64",
      "userId": "01319629895883779210"
     },
     "user_tz": -330
    },
    "id": "ipwwiIFLCn2f",
    "outputId": "142ee6ab-3ce2-47d9-8d83-d5a5800b49d3"
   },
   "outputs": [
    {
     "data": {
      "text/plain": [
       "Pregnancies                 0\n",
       "Glucose                     0\n",
       "BloodPressure               0\n",
       "SkinThickness               0\n",
       "Insulin                     0\n",
       "BMI                         0\n",
       "DiabetesPedigreeFunction    0\n",
       "Age                         0\n",
       "Outcome                     0\n",
       "dtype: int64"
      ]
     },
     "execution_count": 18,
     "metadata": {},
     "output_type": "execute_result"
    }
   ],
   "source": [
    "df1.isnull().sum().sort_values(ascending=False)# Finding Null Values If any"
   ]
  },
  {
   "cell_type": "code",
   "execution_count": 19,
   "metadata": {
    "colab": {
     "base_uri": "https://localhost:8080/",
     "height": 151
    },
    "colab_type": "code",
    "executionInfo": {
     "elapsed": 1348,
     "status": "ok",
     "timestamp": 1586525021181,
     "user": {
      "displayName": "Tushit Dave",
      "photoUrl": "https://lh3.googleusercontent.com/a-/AOh14Gik4OKoqYZMqlsb_TsLeVLPQHgaNo_XIoszgMjN=s64",
      "userId": "01319629895883779210"
     },
     "user_tz": -330
    },
    "id": "8IcPPW6TGOwJ",
    "outputId": "8fe43c14-6568-415b-a8d4-0c8f52f03e8c"
   },
   "outputs": [
    {
     "name": "stdout",
     "output_type": "stream",
     "text": [
      "   Pregnancies  Glucose  BloodPressure  SkinThickness  Insulin   BMI  \\\n",
      "0            6      148             72             35        0  33.6   \n",
      "1            1       85             66             29        0  26.6   \n",
      "2            8      183             64              0        0  23.3   \n",
      "3            1       89             66             23       94  28.1   \n",
      "4            0      137             40             35      168  43.1   \n",
      "\n",
      "   DiabetesPedigreeFunction  Age  Outcome  \n",
      "0                     0.627   50        1  \n",
      "1                     0.351   31        0  \n",
      "2                     0.672   32        1  \n",
      "3                     0.167   21        0  \n",
      "4                     2.288   33        1  \n"
     ]
    }
   ],
   "source": [
    "# dropping NA Values\n",
    "df_no_missing = df1.dropna(axis=0)\n",
    "print(df_no_missing.head(5))"
   ]
  },
  {
   "cell_type": "code",
   "execution_count": 0,
   "metadata": {
    "colab": {},
    "colab_type": "code",
    "id": "d3xCrGqdD0ub"
   },
   "outputs": [],
   "source": []
  },
  {
   "cell_type": "markdown",
   "metadata": {
    "colab_type": "text",
    "id": "RftCgkP87NTy"
   },
   "source": [
    "## Fill with mean"
   ]
  },
  {
   "cell_type": "code",
   "execution_count": 24,
   "metadata": {
    "colab": {
     "base_uri": "https://localhost:8080/",
     "height": 151
    },
    "colab_type": "code",
    "executionInfo": {
     "elapsed": 1478,
     "status": "ok",
     "timestamp": 1586525023340,
     "user": {
      "displayName": "Tushit Dave",
      "photoUrl": "https://lh3.googleusercontent.com/a-/AOh14Gik4OKoqYZMqlsb_TsLeVLPQHgaNo_XIoszgMjN=s64",
      "userId": "01319629895883779210"
     },
     "user_tz": -330
    },
    "id": "RYCi8LpJ7NT0",
    "outputId": "801ef8c0-d6bb-44bb-e923-8e8f41fb480a"
   },
   "outputs": [
    {
     "name": "stdout",
     "output_type": "stream",
     "text": [
      "   Pregnancies  Glucose  BloodPressure  SkinThickness     Insulin   BMI  \\\n",
      "0     6.000000    148.0           72.0       35.00000  155.548223  33.6   \n",
      "1     1.000000     85.0           66.0       29.00000  155.548223  26.6   \n",
      "2     8.000000    183.0           64.0       29.15342  155.548223  23.3   \n",
      "3     1.000000     89.0           66.0       23.00000   94.000000  28.1   \n",
      "4     4.494673    137.0           40.0       35.00000  168.000000  43.1   \n",
      "\n",
      "   DiabetesPedigreeFunction   Age  Outcome  \n",
      "0                     0.627  50.0      1.0  \n",
      "1                     0.351  31.0      1.0  \n",
      "2                     0.672  32.0      1.0  \n",
      "3                     0.167  21.0      1.0  \n",
      "4                     2.288  33.0      1.0  \n"
     ]
    }
   ],
   "source": [
    "from sklearn.impute import SimpleImputer\n",
    "\n",
    "df1 = pd.read_csv('https://raw.githubusercontent.com/maghfera/Diabetes-prediction/refs/heads/main/diabetes.csv', na_values=['#NAME?'])\n",
    "\n",
    "#Imputer to replace Null with mean\n",
    "#imputer = SimpleImputer(missing_values= np.nan, strategy= 'mean', fill_value=None, copy=True)\n",
    "#Imputer to replace Zero with mean\n",
    "imputer = SimpleImputer(missing_values= 0, strategy= 'mean', fill_value=None, copy=True)\n",
    "\n",
    "imputer.fit(df1)\n",
    "df1 = pd.DataFrame(data=imputer.transform(df1), columns=df1.columns)\n",
    "\n",
    "#print\n",
    "print(df1.head(5))"
   ]
  },
  {
   "cell_type": "markdown",
   "metadata": {
    "colab_type": "text",
    "id": "7QQS9fcy7NT-"
   },
   "source": [
    "## Fill with median"
   ]
  },
  {
   "cell_type": "code",
   "execution_count": 30,
   "metadata": {
    "colab": {
     "base_uri": "https://localhost:8080/",
     "height": 151
    },
    "colab_type": "code",
    "executionInfo": {
     "elapsed": 1005,
     "status": "ok",
     "timestamp": 1586525025913,
     "user": {
      "displayName": "Tushit Dave",
      "photoUrl": "https://lh3.googleusercontent.com/a-/AOh14Gik4OKoqYZMqlsb_TsLeVLPQHgaNo_XIoszgMjN=s64",
      "userId": "01319629895883779210"
     },
     "user_tz": -330
    },
    "id": "HDl8gfYV7NUA",
    "outputId": "843a60fd-b2d5-4368-ae50-15ee11ebdffe"
   },
   "outputs": [
    {
     "name": "stdout",
     "output_type": "stream",
     "text": [
      "   Pregnancies  Glucose  BloodPressure  SkinThickness  Insulin   BMI  \\\n",
      "0          6.0    148.0           72.0           35.0    125.0  33.6   \n",
      "1          1.0     85.0           66.0           29.0    125.0  26.6   \n",
      "2          8.0    183.0           64.0           29.0    125.0  23.3   \n",
      "3          1.0     89.0           66.0           23.0     94.0  28.1   \n",
      "4          4.0    137.0           40.0           35.0    168.0  43.1   \n",
      "\n",
      "   DiabetesPedigreeFunction   Age  Outcome  \n",
      "0                     0.627  50.0      1.0  \n",
      "1                     0.351  31.0      1.0  \n",
      "2                     0.672  32.0      1.0  \n",
      "3                     0.167  21.0      1.0  \n",
      "4                     2.288  33.0      1.0  \n"
     ]
    }
   ],
   "source": [
    "from sklearn.impute import SimpleImputer\n",
    "\n",
    "# Data from excel\n",
    "df1 = pd.read_csv('https://raw.githubusercontent.com/maghfera/Diabetes-prediction/refs/heads/main/diabetes.csv', na_values=[0,0.0])\n",
    "\n",
    "#Imputer to replace Null with mean\n",
    "imputer = SimpleImputer(missing_values= np.nan, strategy= 'median', fill_value=None, copy=True)\n",
    "\n",
    "imputer.fit(df1)\n",
    "df1 = pd.DataFrame(data=imputer.transform(df1), columns=df1.columns)\n",
    "\n",
    "#print\n",
    "print(df1.head(5))"
   ]
  },
  {
   "cell_type": "markdown",
   "metadata": {
    "colab_type": "text",
    "id": "qERXyloq7NUI"
   },
   "source": [
    "## Function to find outliers"
   ]
  },
  {
   "cell_type": "code",
   "execution_count": 31,
   "metadata": {
    "colab": {},
    "colab_type": "code",
    "id": "89s8ur2L7NUK"
   },
   "outputs": [],
   "source": [
    "def find_outliers_tukey(x):\n",
    "    q1 = x.quantile(.25)\n",
    "    q3 = x.quantile(.75)\n",
    "    iqr = q3 - q1\n",
    "    floor = q1 - 1.5*iqr\n",
    "    ceiling = q3 + 1.5*iqr\n",
    "    outlier_indices = list(x.index[(x < floor) | (x > ceiling)])\n",
    "    outlier_values = list(x[outlier_indices])\n",
    "    return outlier_indices, outlier_values\n"
   ]
  },
  {
   "cell_type": "markdown",
   "metadata": {
    "colab_type": "text",
    "id": "VW7K82MJ7NUR"
   },
   "source": [
    "## Outliers Found in each column"
   ]
  },
  {
   "cell_type": "code",
   "execution_count": 32,
   "metadata": {
    "colab": {
     "base_uri": "https://localhost:8080/",
     "height": 890
    },
    "colab_type": "code",
    "executionInfo": {
     "elapsed": 896,
     "status": "ok",
     "timestamp": 1586525030138,
     "user": {
      "displayName": "Tushit Dave",
      "photoUrl": "https://lh3.googleusercontent.com/a-/AOh14Gik4OKoqYZMqlsb_TsLeVLPQHgaNo_XIoszgMjN=s64",
      "userId": "01319629895883779210"
     },
     "user_tz": -330
    },
    "id": "Yg_7MiKF7NUT",
    "outputId": "7265d8d3-c0d2-4bef-9c19-a023defcbb91"
   },
   "outputs": [
    {
     "name": "stdout",
     "output_type": "stream",
     "text": [
      "Outliers for Glucose\n",
      "[]\n",
      "Outliers for Pregnancies\n",
      "[13. 13. 13. 13. 13. 13. 13. 13. 13. 13. 14. 14. 15. 17.]\n",
      "Outliers for BloodPressure\n",
      "[ 24.  30.  30.  38. 106. 106. 106. 108. 108. 110. 110. 110. 114. 122.]\n",
      "Outliers for SkinThickness\n",
      "[ 7.  7.  8.  8. 10. 10. 10. 10. 10. 11. 11. 11. 11. 11. 11. 12. 12. 12.\n",
      " 12. 12. 12. 12. 13. 13. 13. 13. 13. 13. 13. 13. 13. 13. 13. 14. 14. 14.\n",
      " 14. 14. 14. 43. 43. 43. 43. 43. 43. 44. 44. 44. 44. 44. 45. 45. 45. 45.\n",
      " 45. 45. 46. 46. 46. 46. 46. 46. 46. 46. 47. 47. 47. 47. 48. 48. 48. 48.\n",
      " 49. 49. 49. 50. 50. 50. 51. 52. 52. 54. 54. 56. 60. 63. 99.]\n",
      "Outliers for Insulin\n",
      "[ 14.  15.  16.  18.  18.  22.  23.  23.  25.  29.  32.  36.  36.  36.\n",
      "  37.  37.  38.  40.  40.  41.  42.  43.  44.  44.  44.  45.  45.  45.\n",
      "  46.  48.  48.  48.  49.  49.  49.  49.  49.  50.  50.  50.  51.  52.\n",
      "  53.  53.  54.  54.  54.  54.  55.  55.  56.  56.  56.  56.  56.  57.\n",
      "  57.  58.  58.  59.  60.  60.  61.  63.  63.  63.  64.  64.  64.  64.\n",
      "  65.  66.  66.  66.  66.  66.  67.  67.  68.  70.  70.  70.  71.  71.\n",
      "  71.  71.  72.  73.  74.  74.  74.  75.  75.  75.  76.  76.  76.  76.\n",
      "  76.  77.  77.  78.  78.  79.  79.  81.  82.  82.  82.  83.  83.  83.\n",
      "  84.  85.  85.  86.  87.  87.  88.  88.  88.  88.  89.  90.  90.  90.\n",
      "  90.  91.  92.  92.  92.  94.  94.  94.  94.  94.  94.  94.  95.  95.\n",
      "  96.  96.  99.  99. 100. 100. 100. 100. 100. 100. 100. 105. 105. 105.\n",
      " 105. 105. 105. 105. 105. 105. 105. 105. 106. 106. 106. 108. 110. 110.\n",
      " 110. 110. 110. 110. 112. 140. 140. 140. 140. 140. 140. 140. 140. 140.\n",
      " 142. 144. 144. 145. 145. 145. 146. 148. 148. 150. 150. 152. 152. 155.\n",
      " 155. 155. 155. 156. 156. 156. 158. 158. 159. 160. 160. 160. 160. 165.\n",
      " 165. 165. 165. 166. 167. 167. 168. 168. 168. 168. 170. 170. 171. 175.\n",
      " 175. 175. 176. 176. 176. 178. 180. 180. 180. 180. 180. 180. 180. 182.\n",
      " 182. 182. 183. 184. 185. 185. 188. 190. 190. 190. 190. 191. 192. 192.\n",
      " 193. 194. 194. 194. 196. 200. 200. 200. 200. 204. 205. 205. 207. 207.\n",
      " 210. 210. 210. 210. 210. 215. 215. 215. 220. 220. 225. 225. 228. 230.\n",
      " 230. 231. 231. 235. 237. 240. 240. 245. 249. 250. 255. 258. 265. 265.\n",
      " 270. 271. 272. 274. 275. 277. 278. 280. 284. 285. 285. 291. 293. 293.\n",
      " 300. 304. 310. 318. 321. 325. 325. 325. 326. 328. 330. 335. 342. 360.\n",
      " 370. 375. 387. 392. 402. 415. 440. 465. 474. 478. 480. 480. 485. 495.\n",
      " 495. 510. 540. 543. 545. 579. 600. 680. 744. 846.]\n",
      "Outliers for BMI\n",
      "[52.3 52.3 52.9 53.2 55.  57.3 59.4 67.1]\n",
      "Outliers for DiabetesPedigreeFunction\n",
      "[1.213 1.222 1.224 1.224 1.251 1.258 1.268 1.282 1.292 1.318 1.321 1.353\n",
      " 1.39  1.391 1.394 1.4   1.441 1.461 1.476 1.6   1.698 1.699 1.731 1.781\n",
      " 1.893 2.137 2.288 2.329 2.42 ]\n",
      "Outliers for Age\n",
      "[67. 67. 67. 68. 69. 69. 70. 72. 81.]\n"
     ]
    }
   ],
   "source": [
    "glucose_indices, glucose_values = find_outliers_tukey(df1['Glucose'])\n",
    "print(\"Outliers for Glucose\")\n",
    "print(np.sort(glucose_values))\n",
    "\n",
    "print(\"Outliers for Pregnancies\")\n",
    "pr_indices, pr_values = find_outliers_tukey(df1['Pregnancies'])\n",
    "print(np.sort(pr_values))\n",
    "\n",
    "print(\"Outliers for BloodPressure\")\n",
    "bp_indices, bp_values = find_outliers_tukey(df1['BloodPressure'])\n",
    "print(np.sort(bp_values))\n",
    "\n",
    "\n",
    "print(\"Outliers for SkinThickness\")\n",
    "st_indices, st_values = find_outliers_tukey(df1['SkinThickness'])\n",
    "print(np.sort(st_values))\n",
    "\n",
    "print(\"Outliers for Insulin\")\n",
    "in_indices, in_values = find_outliers_tukey(df1['Insulin'])\n",
    "print(np.sort(in_values))\n",
    "\n",
    "print(\"Outliers for BMI\")\n",
    "bmi_indices, bmi_values = find_outliers_tukey(df1['BMI'])\n",
    "print(np.sort(bmi_values))\n",
    "\n",
    "print(\"Outliers for DiabetesPedigreeFunction\")\n",
    "dpf_indices, dpf_values = find_outliers_tukey(df1['DiabetesPedigreeFunction'])\n",
    "print(np.sort(dpf_values))\n",
    "\n",
    "print(\"Outliers for Age\")\n",
    "age_indices, age_values = find_outliers_tukey(df1['Age'])\n",
    "print(np.sort(age_values))\n"
   ]
  },
  {
   "cell_type": "markdown",
   "metadata": {
    "colab_type": "text",
    "id": "z7wvBzYy7NUc"
   },
   "source": [
    "## Deleting Row"
   ]
  },
  {
   "cell_type": "code",
   "execution_count": 33,
   "metadata": {
    "colab": {
     "base_uri": "https://localhost:8080/",
     "height": 151
    },
    "colab_type": "code",
    "executionInfo": {
     "elapsed": 1350,
     "status": "ok",
     "timestamp": 1586525034670,
     "user": {
      "displayName": "Tushit Dave",
      "photoUrl": "https://lh3.googleusercontent.com/a-/AOh14Gik4OKoqYZMqlsb_TsLeVLPQHgaNo_XIoszgMjN=s64",
      "userId": "01319629895883779210"
     },
     "user_tz": -330
    },
    "id": "teKGnmLb7NUf",
    "outputId": "c56c7077-ff1b-44be-fe72-1c8f63689ad7",
    "scrolled": true
   },
   "outputs": [
    {
     "name": "stdout",
     "output_type": "stream",
     "text": [
      "   Pregnancies  Glucose  BloodPressure  SkinThickness  Insulin   BMI  \\\n",
      "0          6.0    148.0           72.0           35.0    125.0  33.6   \n",
      "1          1.0     85.0           66.0           29.0    125.0  26.6   \n",
      "2          8.0    183.0           64.0           29.0    125.0  23.3   \n",
      "3          1.0     89.0           66.0           23.0     94.0  28.1   \n",
      "4          4.0    137.0           40.0           35.0    168.0  43.1   \n",
      "\n",
      "   DiabetesPedigreeFunction   Age  Outcome  \n",
      "0                     0.627  50.0      1.0  \n",
      "1                     0.351  31.0      1.0  \n",
      "2                     0.672  32.0      1.0  \n",
      "3                     0.167  21.0      1.0  \n",
      "4                     2.288  33.0      1.0  \n"
     ]
    }
   ],
   "source": [
    "df_del = df1.drop(bp_indices)\n",
    "print(df_del.head(5))"
   ]
  },
  {
   "cell_type": "markdown",
   "metadata": {
    "colab_type": "text",
    "id": "oSdszTBY7NUl"
   },
   "source": [
    "## Replace with min"
   ]
  },
  {
   "cell_type": "code",
   "execution_count": 34,
   "metadata": {
    "colab": {
     "base_uri": "https://localhost:8080/",
     "height": 151
    },
    "colab_type": "code",
    "executionInfo": {
     "elapsed": 964,
     "status": "ok",
     "timestamp": 1586525047950,
     "user": {
      "displayName": "Tushit Dave",
      "photoUrl": "https://lh3.googleusercontent.com/a-/AOh14Gik4OKoqYZMqlsb_TsLeVLPQHgaNo_XIoszgMjN=s64",
      "userId": "01319629895883779210"
     },
     "user_tz": -330
    },
    "id": "8X0yL-kV7NUn",
    "outputId": "bfcaf093-bc3f-42da-d1b1-9ed24e875a33"
   },
   "outputs": [
    {
     "name": "stdout",
     "output_type": "stream",
     "text": [
      "   Pregnancies  Glucose  BloodPressure  SkinThickness  Insulin   BMI  \\\n",
      "0          6.0    148.0           72.0           35.0    125.0  33.6   \n",
      "1          1.0     85.0           66.0           29.0    125.0  26.6   \n",
      "2          8.0    183.0           64.0           29.0    125.0  23.3   \n",
      "3          1.0     89.0           66.0           23.0     94.0  28.1   \n",
      "4          4.0    137.0           40.0           35.0    168.0  43.1   \n",
      "\n",
      "   DiabetesPedigreeFunction   Age  Outcome  \n",
      "0                     0.627  50.0      1.0  \n",
      "1                     0.351  31.0      1.0  \n",
      "2                     0.672  32.0      1.0  \n",
      "3                     0.167  21.0      1.0  \n",
      "4                     2.288  33.0      1.0  \n"
     ]
    }
   ],
   "source": [
    "min_in = np.min(df_del['Insulin'])\n",
    "df_del['Insulin'] = np.where(df_del['Insulin'] > 321, min_in, df_del['Insulin'])\n",
    "print(df_del.head(5))\n"
   ]
  },
  {
   "cell_type": "markdown",
   "metadata": {
    "colab_type": "text",
    "id": "cLD5_qCU7NUy"
   },
   "source": [
    "## Normalization and Reduction"
   ]
  },
  {
   "cell_type": "code",
   "execution_count": 35,
   "metadata": {
    "colab": {
     "base_uri": "https://localhost:8080/",
     "height": 195
    },
    "colab_type": "code",
    "executionInfo": {
     "elapsed": 941,
     "status": "ok",
     "timestamp": 1586525049051,
     "user": {
      "displayName": "Tushit Dave",
      "photoUrl": "https://lh3.googleusercontent.com/a-/AOh14Gik4OKoqYZMqlsb_TsLeVLPQHgaNo_XIoszgMjN=s64",
      "userId": "01319629895883779210"
     },
     "user_tz": -330
    },
    "id": "5Y4C_9AY7NU1",
    "outputId": "1963c840-714a-4f4e-9bdc-14544845cd36"
   },
   "outputs": [
    {
     "data": {
      "text/html": [
       "<div>\n",
       "<style scoped>\n",
       "    .dataframe tbody tr th:only-of-type {\n",
       "        vertical-align: middle;\n",
       "    }\n",
       "\n",
       "    .dataframe tbody tr th {\n",
       "        vertical-align: top;\n",
       "    }\n",
       "\n",
       "    .dataframe thead th {\n",
       "        text-align: right;\n",
       "    }\n",
       "</style>\n",
       "<table border=\"1\" class=\"dataframe\">\n",
       "  <thead>\n",
       "    <tr style=\"text-align: right;\">\n",
       "      <th></th>\n",
       "      <th>PC1</th>\n",
       "      <th>PC2</th>\n",
       "    </tr>\n",
       "  </thead>\n",
       "  <tbody>\n",
       "    <tr>\n",
       "      <th>0</th>\n",
       "      <td>9.057137</td>\n",
       "      <td>27.203914</td>\n",
       "    </tr>\n",
       "    <tr>\n",
       "      <th>1</th>\n",
       "      <td>-3.592908</td>\n",
       "      <td>-37.241961</td>\n",
       "    </tr>\n",
       "    <tr>\n",
       "      <th>2</th>\n",
       "      <td>14.379876</td>\n",
       "      <td>57.546471</td>\n",
       "    </tr>\n",
       "    <tr>\n",
       "      <th>3</th>\n",
       "      <td>-33.701495</td>\n",
       "      <td>-28.892034</td>\n",
       "    </tr>\n",
       "    <tr>\n",
       "      <th>4</th>\n",
       "      <td>48.103096</td>\n",
       "      <td>4.149114</td>\n",
       "    </tr>\n",
       "  </tbody>\n",
       "</table>\n",
       "</div>"
      ],
      "text/plain": [
       "         PC1        PC2\n",
       "0   9.057137  27.203914\n",
       "1  -3.592908 -37.241961\n",
       "2  14.379876  57.546471\n",
       "3 -33.701495 -28.892034\n",
       "4  48.103096   4.149114"
      ]
     },
     "execution_count": 35,
     "metadata": {},
     "output_type": "execute_result"
    }
   ],
   "source": [
    "from sklearn.decomposition import PCA\n",
    "pca = PCA(n_components = 2)\n",
    "pca.fit(df_del)\n",
    "\n",
    "PCA(copy=True, n_components=2, whiten=False)\n",
    "\n",
    "df = pca.transform(df_del)\n",
    "\n",
    "df_2d = pd.DataFrame(df)\n",
    "\n",
    "df_2d.index = df_del.index\n",
    "\n",
    "df_2d.columns = ['PC1', 'PC2']\n",
    "\n",
    "df_2d.head(5)\n",
    "\n"
   ]
  }
 ],
 "metadata": {
  "colab": {
   "collapsed_sections": [],
   "name": "it_aiappdd_02_enus_07_Data Preprocessing",
   "provenance": [
    {
     "file_id": "https://github.com/SagarGaniga/Data-Preprocessing/blob/master/Data_preprocessing_on_diabetes_dataset.ipynb",
     "timestamp": 1584808448976
    }
   ],
   "toc_visible": true
  },
  "kernelspec": {
   "display_name": "Python 3",
   "language": "python",
   "name": "python3"
  },
  "language_info": {
   "codemirror_mode": {
    "name": "ipython",
    "version": 3
   },
   "file_extension": ".py",
   "mimetype": "text/x-python",
   "name": "python",
   "nbconvert_exporter": "python",
   "pygments_lexer": "ipython3",
   "version": "3.12.1"
  }
 },
 "nbformat": 4,
 "nbformat_minor": 0
}
